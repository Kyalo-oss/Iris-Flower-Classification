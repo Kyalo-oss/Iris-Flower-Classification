{
  "metadata": {
    "kernelspec": {
      "language": "python",
      "display_name": "Python 3",
      "name": "python3"
    },
    "language_info": {
      "name": "python",
      "version": "3.10.12",
      "mimetype": "text/x-python",
      "codemirror_mode": {
        "name": "ipython",
        "version": 3
      },
      "pygments_lexer": "ipython3",
      "nbconvert_exporter": "python",
      "file_extension": ".py"
    },
    "kaggle": {
      "accelerator": "none",
      "dataSources": [
        {
          "sourceId": 23404,
          "sourceType": "datasetVersion",
          "datasetId": 17860
        }
      ],
      "dockerImageVersionId": 30558,
      "isInternetEnabled": true,
      "language": "python",
      "sourceType": "notebook",
      "isGpuEnabled": false
    },
    "colab": {
      "name": "Iris Flower Solution",
      "provenance": [],
      "include_colab_link": true
    }
  },
  "nbformat_minor": 0,
  "nbformat": 4,
  "cells": [
    {
      "cell_type": "markdown",
      "metadata": {
        "id": "view-in-github",
        "colab_type": "text"
      },
      "source": [
        "<a href=\"https://colab.research.google.com/github/Kyalo-oss/Iris-Flower-Classification/blob/main/Iris_Flower_Solution.ipynb\" target=\"_parent\"><img src=\"https://colab.research.google.com/assets/colab-badge.svg\" alt=\"Open In Colab\"/></a>"
      ]
    },
    {
      "source": [
        "\n",
        "# IMPORTANT: RUN THIS CELL IN ORDER TO IMPORT YOUR KAGGLE DATA SOURCES\n",
        "# TO THE CORRECT LOCATION (/kaggle/input) IN YOUR NOTEBOOK,\n",
        "# THEN FEEL FREE TO DELETE THIS CELL.\n",
        "# NOTE: THIS NOTEBOOK ENVIRONMENT DIFFERS FROM KAGGLE'S PYTHON\n",
        "# ENVIRONMENT SO THERE MAY BE MISSING LIBRARIES USED BY YOUR\n",
        "# NOTEBOOK.\n",
        "\n",
        "import os\n",
        "import sys\n",
        "from tempfile import NamedTemporaryFile\n",
        "from urllib.request import urlopen\n",
        "from urllib.parse import unquote, urlparse\n",
        "from urllib.error import HTTPError\n",
        "from zipfile import ZipFile\n",
        "import tarfile\n",
        "import shutil\n",
        "\n",
        "CHUNK_SIZE = 40960\n",
        "DATA_SOURCE_MAPPING = 'iris-flower-dataset:https%3A%2F%2Fstorage.googleapis.com%2Fkaggle-data-sets%2F17860%2F23404%2Fbundle%2Farchive.zip%3FX-Goog-Algorithm%3DGOOG4-RSA-SHA256%26X-Goog-Credential%3Dgcp-kaggle-com%2540kaggle-161607.iam.gserviceaccount.com%252F20240606%252Fauto%252Fstorage%252Fgoog4_request%26X-Goog-Date%3D20240606T072256Z%26X-Goog-Expires%3D259200%26X-Goog-SignedHeaders%3Dhost%26X-Goog-Signature%3D5dda974fa2a1e0d94d367f38c2b85861ce0f2ace82dd4b2af5c170522e36eeaa3d932b321e85b0a8f6ca15b231f3bbe0258077931fefbd98b5fb01e96b7e18c8b6951a9e2ecc873b19145ff732d596737f89d6c4d84cfc0d5393184e361ca4ad08e88d9a1e489acc9ac810f70391135306de153b33e0131a0754c3ad99b3c55a6bb8b7fff156a7c4a77a330bf1d5ea2358a6598a22df177340d47cf1eacc8e2682bfb4c720182605405da8432c4f412a4ee0a4e961ce7790aaf5ac350a65ff74e6d757cb20814adfe65dfc4700f3500797f3fabdc35b5fe7b1e6b29d65fe7f276ca910e9f345b7b492fd21d0ad70ddd6129ca98c66468ea8a6a0e04f33c63738'\n",
        "\n",
        "KAGGLE_INPUT_PATH='/kaggle/input'\n",
        "KAGGLE_WORKING_PATH='/kaggle/working'\n",
        "KAGGLE_SYMLINK='kaggle'\n",
        "\n",
        "!umount /kaggle/input/ 2> /dev/null\n",
        "shutil.rmtree('/kaggle/input', ignore_errors=True)\n",
        "os.makedirs(KAGGLE_INPUT_PATH, 0o777, exist_ok=True)\n",
        "os.makedirs(KAGGLE_WORKING_PATH, 0o777, exist_ok=True)\n",
        "\n",
        "try:\n",
        "  os.symlink(KAGGLE_INPUT_PATH, os.path.join(\"..\", 'input'), target_is_directory=True)\n",
        "except FileExistsError:\n",
        "  pass\n",
        "try:\n",
        "  os.symlink(KAGGLE_WORKING_PATH, os.path.join(\"..\", 'working'), target_is_directory=True)\n",
        "except FileExistsError:\n",
        "  pass\n",
        "\n",
        "for data_source_mapping in DATA_SOURCE_MAPPING.split(','):\n",
        "    directory, download_url_encoded = data_source_mapping.split(':')\n",
        "    download_url = unquote(download_url_encoded)\n",
        "    filename = urlparse(download_url).path\n",
        "    destination_path = os.path.join(KAGGLE_INPUT_PATH, directory)\n",
        "    try:\n",
        "        with urlopen(download_url) as fileres, NamedTemporaryFile() as tfile:\n",
        "            total_length = fileres.headers['content-length']\n",
        "            print(f'Downloading {directory}, {total_length} bytes compressed')\n",
        "            dl = 0\n",
        "            data = fileres.read(CHUNK_SIZE)\n",
        "            while len(data) > 0:\n",
        "                dl += len(data)\n",
        "                tfile.write(data)\n",
        "                done = int(50 * dl / int(total_length))\n",
        "                sys.stdout.write(f\"\\r[{'=' * done}{' ' * (50-done)}] {dl} bytes downloaded\")\n",
        "                sys.stdout.flush()\n",
        "                data = fileres.read(CHUNK_SIZE)\n",
        "            if filename.endswith('.zip'):\n",
        "              with ZipFile(tfile) as zfile:\n",
        "                zfile.extractall(destination_path)\n",
        "            else:\n",
        "              with tarfile.open(tfile.name) as tarfile:\n",
        "                tarfile.extractall(destination_path)\n",
        "            print(f'\\nDownloaded and uncompressed: {directory}')\n",
        "    except HTTPError as e:\n",
        "        print(f'Failed to load (likely expired) {download_url} to path {destination_path}')\n",
        "        continue\n",
        "    except OSError as e:\n",
        "        print(f'Failed to load {download_url} to path {destination_path}')\n",
        "        continue\n",
        "\n",
        "print('Data source import complete.')\n"
      ],
      "metadata": {
        "id": "sLYW8-7Wbfro"
      },
      "cell_type": "code",
      "outputs": [],
      "execution_count": null
    },
    {
      "cell_type": "code",
      "source": [
        "# This Python 3 environment comes with many helpful analytics libraries installed\n",
        "# It is defined by the kaggle/python Docker image: https://github.com/kaggle/docker-python\n",
        "# For example, here's several helpful packages to load\n",
        "\n",
        "import numpy as np # linear algebra\n",
        "import pandas as pd # data processing, CSV file I/O (e.g. pd.read_csv)\n",
        "\n",
        "# Input data files are available in the read-only \"../input/\" directory\n",
        "# For example, running this (by clicking run or pressing Shift+Enter) will list all files under the input directory\n",
        "\n",
        "import os\n",
        "for dirname, _, filenames in os.walk('/kaggle/input'):\n",
        "    for filename in filenames:\n",
        "        print(os.path.join(dirname, filename))\n",
        "\n",
        "# You can write up to 20GB to the current directory (/kaggle/working/) that gets preserved as output when you create a version using \"Save & Run All\"\n",
        "# You can also write temporary files to /kaggle/temp/, but they won't be saved outside of the current session"
      ],
      "metadata": {
        "_uuid": "8f2839f25d086af736a60e9eeb907d3b93b6e0e5",
        "_cell_guid": "b1076dfc-b9ad-4769-8c92-a6c4dae69d19",
        "execution": {
          "iopub.status.busy": "2024-06-06T07:00:51.999188Z",
          "iopub.execute_input": "2024-06-06T07:00:51.999751Z",
          "iopub.status.idle": "2024-06-06T07:00:52.463601Z",
          "shell.execute_reply.started": "2024-06-06T07:00:51.99967Z",
          "shell.execute_reply": "2024-06-06T07:00:52.462144Z"
        },
        "trusted": true,
        "id": "CKhtNA7Jbfrw"
      },
      "execution_count": null,
      "outputs": []
    },
    {
      "cell_type": "code",
      "source": [
        "Flower_data = pd.read_csv('/kaggle/input/iris-flower-dataset/IRIS.csv')\n",
        "\n",
        "df = pd.DataFrame(Flower_data)\n",
        "\n",
        "df"
      ],
      "metadata": {
        "execution": {
          "iopub.status.busy": "2024-06-06T07:00:52.466038Z",
          "iopub.execute_input": "2024-06-06T07:00:52.466529Z",
          "iopub.status.idle": "2024-06-06T07:00:52.518777Z",
          "shell.execute_reply.started": "2024-06-06T07:00:52.466495Z",
          "shell.execute_reply": "2024-06-06T07:00:52.517231Z"
        },
        "trusted": true,
        "id": "OEaeN1u1bfrx"
      },
      "execution_count": null,
      "outputs": []
    },
    {
      "cell_type": "code",
      "source": [
        "df.shape"
      ],
      "metadata": {
        "execution": {
          "iopub.status.busy": "2024-06-06T07:00:52.520599Z",
          "iopub.execute_input": "2024-06-06T07:00:52.521061Z",
          "iopub.status.idle": "2024-06-06T07:00:52.529285Z",
          "shell.execute_reply.started": "2024-06-06T07:00:52.521025Z",
          "shell.execute_reply": "2024-06-06T07:00:52.528078Z"
        },
        "trusted": true,
        "id": "EszhkC9ebfrx"
      },
      "execution_count": null,
      "outputs": []
    },
    {
      "cell_type": "code",
      "source": [
        "df.describe(include = 'all')"
      ],
      "metadata": {
        "execution": {
          "iopub.status.busy": "2024-06-06T07:00:52.532682Z",
          "iopub.execute_input": "2024-06-06T07:00:52.533458Z",
          "iopub.status.idle": "2024-06-06T07:00:52.58521Z",
          "shell.execute_reply.started": "2024-06-06T07:00:52.533414Z",
          "shell.execute_reply": "2024-06-06T07:00:52.583794Z"
        },
        "trusted": true,
        "id": "o9fbsfLobfry"
      },
      "execution_count": null,
      "outputs": []
    },
    {
      "cell_type": "code",
      "source": [
        "df.info()"
      ],
      "metadata": {
        "execution": {
          "iopub.status.busy": "2024-06-06T07:00:52.58697Z",
          "iopub.execute_input": "2024-06-06T07:00:52.587355Z",
          "iopub.status.idle": "2024-06-06T07:00:52.610236Z",
          "shell.execute_reply.started": "2024-06-06T07:00:52.58732Z",
          "shell.execute_reply": "2024-06-06T07:00:52.60883Z"
        },
        "trusted": true,
        "id": "Vs2lIwlCbfry"
      },
      "execution_count": null,
      "outputs": []
    },
    {
      "cell_type": "code",
      "source": [
        "df.isnull().sum()"
      ],
      "metadata": {
        "execution": {
          "iopub.status.busy": "2024-06-06T07:00:52.612774Z",
          "iopub.execute_input": "2024-06-06T07:00:52.613229Z",
          "iopub.status.idle": "2024-06-06T07:00:52.626461Z",
          "shell.execute_reply.started": "2024-06-06T07:00:52.613196Z",
          "shell.execute_reply": "2024-06-06T07:00:52.625014Z"
        },
        "trusted": true,
        "id": "hJ-m4GgYbfrz"
      },
      "execution_count": null,
      "outputs": []
    },
    {
      "cell_type": "code",
      "source": [
        "df.duplicated().sum()"
      ],
      "metadata": {
        "execution": {
          "iopub.status.busy": "2024-06-06T07:00:52.628414Z",
          "iopub.execute_input": "2024-06-06T07:00:52.629738Z",
          "iopub.status.idle": "2024-06-06T07:00:52.644097Z",
          "shell.execute_reply.started": "2024-06-06T07:00:52.629674Z",
          "shell.execute_reply": "2024-06-06T07:00:52.642574Z"
        },
        "trusted": true,
        "id": "VfJxRkmbbfr0"
      },
      "execution_count": null,
      "outputs": []
    },
    {
      "cell_type": "code",
      "source": [
        "df['species'].value_counts()"
      ],
      "metadata": {
        "execution": {
          "iopub.status.busy": "2024-06-06T07:00:52.646451Z",
          "iopub.execute_input": "2024-06-06T07:00:52.646887Z",
          "iopub.status.idle": "2024-06-06T07:00:52.660788Z",
          "shell.execute_reply.started": "2024-06-06T07:00:52.646855Z",
          "shell.execute_reply": "2024-06-06T07:00:52.659103Z"
        },
        "trusted": true,
        "id": "ZoFLq6ytbfr0"
      },
      "execution_count": null,
      "outputs": []
    },
    {
      "cell_type": "code",
      "source": [
        "import seaborn as sns\n",
        "import matplotlib.pyplot as plt\n",
        "\n",
        "\n",
        "# Melt the DataFrame to create a long-form version for Seaborn\n",
        "df_melted = df.melt(id_vars='species', var_name='variable', value_name='count')\n",
        "\n",
        "# Plot the boxplots\n",
        "sns.boxplot(data=df_melted, x='species', y='count', hue='variable', palette='hls')\n",
        "\n",
        "# Add labels\n",
        "plt.xlabel('Species')\n",
        "plt.ylabel('Count')\n",
        "plt.title('Count Distribution by Species')\n",
        "\n",
        "# Show the plot\n",
        "plt.show()\n",
        "\n",
        "#plot the countplot\n",
        "sns.countplot(data=df, x='species', palette='hls')\n",
        "\n",
        "#Add labels\n",
        "plt.xlabel('Species')\n",
        "plt.ylabel('Count')\n",
        "plt.title('Count of Species')\n",
        "\n",
        "#show the plot\n",
        "plt.show()"
      ],
      "metadata": {
        "execution": {
          "iopub.status.busy": "2024-06-06T07:00:52.662885Z",
          "iopub.execute_input": "2024-06-06T07:00:52.66333Z",
          "iopub.status.idle": "2024-06-06T07:00:55.848038Z",
          "shell.execute_reply.started": "2024-06-06T07:00:52.663262Z",
          "shell.execute_reply": "2024-06-06T07:00:55.846761Z"
        },
        "trusted": true,
        "id": "CPk-l5AYbfr1"
      },
      "execution_count": null,
      "outputs": []
    },
    {
      "cell_type": "code",
      "source": [
        "\n",
        "# filter out the numeric columns and calculate the correlation matrix\n",
        "\n",
        "numeric_columns = df.select_dtypes(include='number')\n",
        "correlation_matrix = numeric_columns.corr()\n",
        "\n",
        "# Create a heatmap\n",
        "plt.figure(figsize=(8, 6))\n",
        "\n",
        "# Customize the heatmap appearance\n",
        "sns.heatmap(correlation_matrix, annot=True, cmap='coolwarm', linewidths=0.5)\n",
        "\n",
        "# Add a title\n",
        "plt.title('Correlation Heatmap')\n",
        "\n",
        "# Show the plot\n",
        "plt.show()"
      ],
      "metadata": {
        "execution": {
          "iopub.status.busy": "2024-06-06T07:00:55.85221Z",
          "iopub.execute_input": "2024-06-06T07:00:55.852593Z",
          "iopub.status.idle": "2024-06-06T07:00:56.260184Z",
          "shell.execute_reply.started": "2024-06-06T07:00:55.852553Z",
          "shell.execute_reply": "2024-06-06T07:00:56.258774Z"
        },
        "trusted": true,
        "id": "a-QyiLKVbfr1"
      },
      "execution_count": null,
      "outputs": []
    },
    {
      "cell_type": "markdown",
      "source": [
        "**MODELS**"
      ],
      "metadata": {
        "id": "wCb0WeIQbfr2"
      }
    },
    {
      "cell_type": "code",
      "source": [
        "#Logistic Regresssion\n",
        "\n",
        "from sklearn.model_selection import train_test_split\n",
        "from sklearn.linear_model import LogisticRegression\n",
        "from sklearn.metrics import accuracy_score, classification_report\n",
        "from sklearn.metrics import mean_squared_error, r2_score\n",
        "import matplotlib.pyplot as plt\n",
        "\n",
        "\n",
        "\n",
        "# Split the data into features (X) and the target variable (y)\n",
        "X = df[['sepal_length', 'sepal_width', 'petal_length', 'petal_width']]\n",
        "y = df['species']\n",
        "\n",
        "# Split the data into a training set and a testing set (you can adjust the test_size as needed)\n",
        "X_train, X_test, y_train, y_test = train_test_split(X, y, test_size=0.2, random_state=42)\n",
        "\n",
        "# Create a Logistic Regression model\n",
        "model = LogisticRegression(max_iter=1000)\n",
        "\n",
        "# Fit the model on the training data\n",
        "model.fit(X_train, y_train)\n",
        "\n",
        "# Make predictions on the test data\n",
        "y_pred = model.predict(X_test)\n",
        "\n",
        "# Calculate and print evaluation metrics\n",
        "accuracy = accuracy_score(y_test, y_pred)\n",
        "classification_report_str = classification_report(y_test, y_pred)\n",
        "\n",
        "print(\"Accuracy:\", accuracy)\n",
        "print(\"Classification Report:\\n\", classification_report_str)"
      ],
      "metadata": {
        "execution": {
          "iopub.status.busy": "2024-06-06T07:00:56.261802Z",
          "iopub.execute_input": "2024-06-06T07:00:56.262214Z",
          "iopub.status.idle": "2024-06-06T07:00:56.73232Z",
          "shell.execute_reply.started": "2024-06-06T07:00:56.262175Z",
          "shell.execute_reply": "2024-06-06T07:00:56.730938Z"
        },
        "trusted": true,
        "id": "wq2gTvdxbfr3"
      },
      "execution_count": null,
      "outputs": []
    },
    {
      "cell_type": "code",
      "source": [
        "# descion tree classifier\n",
        "from sklearn.tree import DecisionTreeClassifier\n",
        "from sklearn.metrics import accuracy_score, classification_report\n",
        "import matplotlib.pyplot as plt\n",
        "from sklearn import datasets\n",
        "from sklearn import tree\n",
        "\n",
        "# Load the Iris dataset\n",
        "iris = datasets.load_iris()\n",
        "X = iris.data\n",
        "y = iris.target\n",
        "\n",
        "# Split the data into a training set and a testing set\n",
        "X_train, X_test, y_train, y_test = train_test_split(X, y, test_size=0.2, random_state=42)\n",
        "\n",
        "# Create a Decision Tree classifier\n",
        "model = DecisionTreeClassifier()\n",
        "\n",
        "# Fit the model on the training data\n",
        "model.fit(X_train, y_train)\n",
        "\n",
        "# Make predictions on the test data\n",
        "y_pred = model.predict(X_test)\n",
        "\n",
        "# Calculate and print evaluation metrics\n",
        "accuracy = accuracy_score(y_test, y_pred)\n",
        "classification_report_str = classification_report(y_test, y_pred)\n",
        "\n",
        "print(\"Accuracy:\", accuracy)\n",
        "print(\"Classification Report:\\n\", classification_report_str)\n",
        "\n",
        "# Visualize the Decision Tree (optional)\n",
        "plt.figure(figsize=(12, 8))\n",
        "tree.plot_tree(model, filled=True, feature_names=iris.feature_names, class_names=iris.target_names)\n",
        "plt.show()\n"
      ],
      "metadata": {
        "execution": {
          "iopub.status.busy": "2024-06-06T07:00:56.734032Z",
          "iopub.execute_input": "2024-06-06T07:00:56.734793Z",
          "iopub.status.idle": "2024-06-06T07:00:58.148144Z",
          "shell.execute_reply.started": "2024-06-06T07:00:56.734749Z",
          "shell.execute_reply": "2024-06-06T07:00:58.146753Z"
        },
        "trusted": true,
        "id": "FVGWsx1vbfr4"
      },
      "execution_count": null,
      "outputs": []
    },
    {
      "cell_type": "code",
      "source": [
        " #Support Vector Machine (SVM) classifier\n",
        "\n",
        "from sklearn.svm import SVC\n",
        "from sklearn.model_selection import cross_val_score, cross_val_predict\n",
        "from sklearn.metrics import accuracy_score, classification_report, confusion_matrix\n",
        "from sklearn import datasets\n",
        "import numpy as np\n",
        "\n",
        "# Load the Iris dataset\n",
        "iris = datasets.load_iris()\n",
        "X = iris.data\n",
        "y = iris.target\n",
        "\n",
        "# Split the data into a training set and a testing set\n",
        "X_train, X_test, y_train, y_test = train_test_split(X, y, test_size=0.2, random_state=42)\n",
        "\n",
        "# Create an SVM classifier\n",
        "model = SVC(kernel='linear')\n",
        "\n",
        "# Fit the model on the training data\n",
        "model.fit(X_train, y_train)\n",
        "\n",
        "# Make predictions on the test data\n",
        "y_pred = model.predict(X_test)\n",
        "\n",
        "# Calculate and print evaluation metrics\n",
        "accuracy = accuracy_score(y_test, y_pred)\n",
        "classification_report_str = classification_report(y_test, y_pred)\n",
        "\n",
        "print(\"Accuracy:\", accuracy)\n",
        "print(\"Classification Report:\\n\", classification_report_str)"
      ],
      "metadata": {
        "execution": {
          "iopub.status.busy": "2024-06-06T07:04:32.214327Z",
          "iopub.execute_input": "2024-06-06T07:04:32.214796Z",
          "iopub.status.idle": "2024-06-06T07:04:32.241236Z",
          "shell.execute_reply.started": "2024-06-06T07:04:32.214761Z",
          "shell.execute_reply": "2024-06-06T07:04:32.239486Z"
        },
        "trusted": true,
        "id": "m3L7TN8Ibfr4"
      },
      "execution_count": null,
      "outputs": []
    },
    {
      "cell_type": "code",
      "source": [
        "\n",
        "# Perform k-fold cross-validation (k=5)\n",
        "k = 5\n",
        "cv_scores = cross_val_score(model, X, y, cv=k)\n",
        "\n",
        "# Cross-validated predictions\n",
        "y_pred = cross_val_predict(model, X, y, cv=k)\n",
        "\n",
        "# Calculate the overall accuracy\n",
        "accuracy = accuracy_score(y, y_pred)\n",
        "classification_report_str = classification_report(y, y_pred)\n",
        "\n",
        "# Print the results\n",
        "print(f\"Cross-Validation Scores (k={k}): {cv_scores}\")\n",
        "print(f\"Mean Cross-Validation Accuracy: {np.mean(cv_scores):.2f}\")\n",
        "print(f\"Overall Accuracy: {accuracy:.2f}\")\n",
        "print(\"Classification Report:\\n\", classification_report_str)\n"
      ],
      "metadata": {
        "execution": {
          "iopub.status.busy": "2024-06-06T07:04:39.439948Z",
          "iopub.execute_input": "2024-06-06T07:04:39.44036Z",
          "iopub.status.idle": "2024-06-06T07:04:39.486734Z",
          "shell.execute_reply.started": "2024-06-06T07:04:39.440328Z",
          "shell.execute_reply": "2024-06-06T07:04:39.485293Z"
        },
        "trusted": true,
        "id": "z3ELAZDUbfr5"
      },
      "execution_count": null,
      "outputs": []
    },
    {
      "cell_type": "code",
      "source": [
        "# Visualization for Support Vector Machine (SVM) classifier\n",
        "\n",
        "# Load the Iris dataset\n",
        "iris = datasets.load_iris()\n",
        "X = iris.data[:, :2]\n",
        "y = iris.target\n",
        "\n",
        "# Create an SVM classifier\n",
        "model = SVC(kernel='linear')\n",
        "\n",
        "# Fit the model on the data\n",
        "model.fit(X, y)\n",
        "\n",
        "# Create a meshgrid for the decision boundary plot\n",
        "x_min, x_max = X[:, 0].min() - 1, X[:, 0].max() + 1\n",
        "y_min, y_max = X[:, 1].min() - 1, X[:, 1].max() + 1\n",
        "xx, yy = np.meshgrid(np.arange(x_min, x_max, 0.02), np.arange(y_min, y_max, 0.02))\n",
        "Z = model.predict(np.c_[xx.ravel(), yy.ravel()])\n",
        "Z = Z.reshape(xx.shape)\n",
        "\n",
        "# Plot the decision boundary\n",
        "plt.contourf(xx, yy, Z, cmap=plt.cm.coolwarm, alpha=0.8)\n",
        "\n",
        "# Plot the data points\n",
        "scatter = plt.scatter(X[:, 0], X[:, 1], c=y, cmap=plt.cm.coolwarm)\n",
        "plt.xlabel('Feature 1')\n",
        "plt.ylabel('Feature 2')\n",
        "plt.legend(*scatter.legend_elements(), title=\"Classes\")\n",
        "\n",
        "plt.title('SVM Decision Boundary and Support Vectors')\n",
        "plt.show()\n"
      ],
      "metadata": {
        "execution": {
          "iopub.status.busy": "2024-06-06T07:00:58.180045Z",
          "iopub.execute_input": "2024-06-06T07:00:58.180458Z",
          "iopub.status.idle": "2024-06-06T07:00:58.929756Z",
          "shell.execute_reply.started": "2024-06-06T07:00:58.180418Z",
          "shell.execute_reply": "2024-06-06T07:00:58.928758Z"
        },
        "trusted": true,
        "id": "IyTmYwgkbfr5"
      },
      "execution_count": null,
      "outputs": []
    },
    {
      "cell_type": "code",
      "source": [
        "# k-Nearest Neighbors (k-NN)\n",
        "from sklearn.neighbors import KNeighborsClassifier\n",
        "from sklearn.metrics import accuracy_score, classification_report\n",
        "from sklearn import datasets\n",
        "\n",
        "# Load the Iris dataset\n",
        "iris = datasets.load_iris()\n",
        "X = iris.data\n",
        "y = iris.target\n",
        "\n",
        "# Split the data into a training set and a testing set (\n",
        "X_train, X_test, y_train, y_test = train_test_split(X, y, test_size=0.2, random_state=42)\n",
        "\n",
        "# Create a k-NN classifier\n",
        "model = KNeighborsClassifier(n_neighbors=3)\n",
        "\n",
        "# Fit the model on the training data\n",
        "model.fit(X_train, y_train)\n",
        "\n",
        "# Make predictions on the test data\n",
        "y_pred = model.predict(X_test)\n",
        "\n",
        "# Calculate and print evaluation metrics\n",
        "accuracy = accuracy_score(y_test, y_pred)\n",
        "classification_report_str = classification_report(y_test, y_pred)\n",
        "\n",
        "print(\"Accuracy:\", accuracy)\n",
        "print(\"Classification Report:\\n\", classification_report_str)"
      ],
      "metadata": {
        "execution": {
          "iopub.status.busy": "2024-06-06T07:00:58.930991Z",
          "iopub.execute_input": "2024-06-06T07:00:58.931291Z",
          "iopub.status.idle": "2024-06-06T07:00:58.959325Z",
          "shell.execute_reply.started": "2024-06-06T07:00:58.931265Z",
          "shell.execute_reply": "2024-06-06T07:00:58.958195Z"
        },
        "trusted": true,
        "id": "HaIeMdtEbfr6"
      },
      "execution_count": null,
      "outputs": []
    },
    {
      "cell_type": "code",
      "source": [
        "from sklearn.svm import SVC\n",
        "from sklearn.model_selection import cross_val_score, cross_val_predict\n",
        "from sklearn.metrics import accuracy_score, classification_report, confusion_matrix\n",
        "from sklearn import datasets\n",
        "import numpy as np\n",
        "\n",
        "# Load the Iris dataset\n",
        "iris = datasets.load_iris()\n",
        "X = iris.data\n",
        "y = iris.target\n",
        "\n",
        "# Create an SVM classifier\n",
        "model = SVC(kernel='linear')  # You can choose different kernels (e.g., 'linear', 'rbf', 'poly')\n",
        "\n",
        "# Perform k-fold cross-validation (k=5)\n",
        "k = 5\n",
        "cv_scores = cross_val_score(model, X, y, cv=k)\n",
        "\n",
        "# Cross-validated predictions\n",
        "y_pred = cross_val_predict(model, X, y, cv=k)\n",
        "\n",
        "# Calculate the overall accuracy\n",
        "accuracy = accuracy_score(y, y_pred)\n",
        "classification_report_str = classification_report(y, y_pred)\n",
        "\n",
        "# Print the results\n",
        "print(f\"Cross-Validation Scores (k={k}): {cv_scores}\")\n",
        "print(f\"Mean Cross-Validation Accuracy: {np.mean(cv_scores):.2f}\")\n",
        "print(f\"Overall Accuracy: {accuracy:.2f}\")\n",
        "print(\"Classification Report:\\n\", classification_report_str)\n"
      ],
      "metadata": {
        "execution": {
          "iopub.status.busy": "2024-06-06T07:01:44.450194Z",
          "iopub.execute_input": "2024-06-06T07:01:44.450632Z",
          "iopub.status.idle": "2024-06-06T07:01:44.497874Z",
          "shell.execute_reply.started": "2024-06-06T07:01:44.450598Z",
          "shell.execute_reply": "2024-06-06T07:01:44.496528Z"
        },
        "trusted": true,
        "id": "c37FVts3bfr6"
      },
      "execution_count": null,
      "outputs": []
    }
  ]
}